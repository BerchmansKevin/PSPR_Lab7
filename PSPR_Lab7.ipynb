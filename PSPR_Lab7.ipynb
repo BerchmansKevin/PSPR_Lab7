{
 "cells": [
  {
   "cell_type": "markdown",
   "id": "7637756b",
   "metadata": {},
   "source": [
    "# Problem Solving Using Python and R Lab"
   ]
  },
  {
   "cell_type": "markdown",
   "id": "59aab3f8",
   "metadata": {},
   "source": [
    "## Lab7. Python File Processing "
   ]
  },
  {
   "cell_type": "markdown",
   "id": "33a1d6c9",
   "metadata": {},
   "source": [
    "# Name    : Berchmans Kevin S\n"
   ]
  },
  {
   "cell_type": "markdown",
   "id": "cc81eaf6",
   "metadata": {},
   "source": [
    "### Question1. Write a program for Password Management System\n",
    "###  File creation: Ask user to enter N user names and their passwords. Store usernames and passwords into a file named “loginfile.txt”. Store each user and password in one line. \n",
    "###  File Processing: Write a program that opens your “security.txt” file and reads usernames and passwords from it. Store user names in one list and passwords in another lists. \n",
    "###  Querying: ask user to enter user name and password for verification. If they match the values stored in the lists, print a message “Login Successful”. Otherwise print a message “Login Failed, try again”."
   ]
  },
  {
   "cell_type": "code",
   "execution_count": 1,
   "id": "e416897e",
   "metadata": {},
   "outputs": [],
   "source": [
    "def register():\n",
    "    user_name = input(\"Please input your User name \")\n",
    "    password = input(\"Please enter your password \")\n",
    "    \n",
    "    file = open(\"loginfile.txt\",\"a\")\n",
    "    file.write(user_name)\n",
    "    file.write(\" \")\n",
    "    file.write(password)\n",
    "    file.write(\"\\n\")\n",
    "    file.close()\n",
    "    \n",
    "    if login():\n",
    "        print(\"You are now logged in...\")\n",
    "    else:\n",
    "        print(\"You aren't logged in!!\")\n",
    "        \n",
    "def login():\n",
    "    user_name = input(\"Please enter your Username: \")\n",
    "    password = input(\"Please enter your Password: \")\n",
    "    \n",
    "    for line in open(\"loginfile.txt\", \"r\").readlines():\n",
    "        login_info = line.split()\n",
    "        \n",
    "        if user_name == login_info[0] and password == login_info[1]:\n",
    "            print(\"Correct Credentials!\")\n",
    "            return True\n",
    "        print(\"Incorrect Credentials.\")\n",
    "        return False\n",
    "    "
   ]
  },
  {
   "cell_type": "code",
   "execution_count": null,
   "id": "bbd04363",
   "metadata": {},
   "outputs": [],
   "source": [
    "register()"
   ]
  },
  {
   "cell_type": "code",
   "execution_count": 14,
   "id": "92e1aff6",
   "metadata": {},
   "outputs": [
    {
     "name": "stdout",
     "output_type": "stream",
     "text": [
      "Please enter your Username: Berchmans\n",
      "Please enter your Password: kevin\n",
      "Correct Credentials!\n"
     ]
    },
    {
     "data": {
      "text/plain": [
       "True"
      ]
     },
     "execution_count": 14,
     "metadata": {},
     "output_type": "execute_result"
    }
   ],
   "source": [
    "login()"
   ]
  },
  {
   "cell_type": "markdown",
   "id": "74bd6569",
   "metadata": {},
   "source": [
    "### Question2. Write a program for Student Performance Analysis\n",
    "### Create a text file, 'marks.txt', with N marks as floating point numbers. Open the file, read marks from it and compute and print the highest mark. \n",
    "### If the user runs the program more than once you should not overwrite the previous text file – simply append the marks to the end of the file. \n",
    "### Modify the above program so that it also prints Top-3 highest marks (Note: you may need to use list concept) \n",
    "### Modify the above program so that it also prints the Lowest-3 marks."
   ]
  },
  {
   "cell_type": "code",
   "execution_count": 6,
   "id": "09cf6f4e",
   "metadata": {},
   "outputs": [
    {
     "name": "stdout",
     "output_type": "stream",
     "text": [
      "100.0\n",
      "[100.0]\n",
      "[95.0]\n"
     ]
    }
   ],
   "source": [
    "marks = [99.0,100.0,95.0,96.0,97.0]\n",
    "with open('marks1.txt','a') as file:\n",
    "    for mark in marks:\n",
    "        file.write(\"%.lf\\n\" % mark)\n",
    "num_list = []\n",
    "with open('marks1.txt','r') as fp:\n",
    "    num_list = [float(item) for item in fp.readlines()]\n",
    "print(max(num_list))\n",
    "\n",
    "def Nmaxelements(list1, N):\n",
    "    final_list = []\n",
    "    for i in range(0, N):\n",
    "        max1 = 0\n",
    "    for j in range(len(list1)):\n",
    "            if list1[j] > max1:\n",
    "                max1 = list1[j];\n",
    "    list1.remove(max1);\n",
    "    final_list.append(max1)\n",
    "    print(final_list)\n",
    "Nmaxelements(num_list, 3)\n",
    "\n",
    "def Nminelements(list1, N):\n",
    "    final_list = [];\n",
    "    for i in range(0, N):\n",
    "         min1 = 9999999;\n",
    "    for j in range(len(list1)):\n",
    "            if list1[j] < min1:\n",
    "                min1 = list1[j];\n",
    "    list1.remove(min1);\n",
    "    final_list.append(min1)\n",
    "    print(final_list)\n",
    "Nminelements(num_list, 3)"
   ]
  },
  {
   "cell_type": "markdown",
   "id": "18547a2c",
   "metadata": {},
   "source": [
    "### Question3. Write a program for Stock Price Analysis\n",
    "### File Creation: Continually prompt a user for stock name, followed by price values for 5 days. Each row indicates stock name and daily prices of one stock. Store these values in a text file called “stock-prices.txt”. Open the file in Append Mode. Prompt message “Do you want to continue? “ and stop reading values accordingly. Then, you can close your file. \n",
    "### File Processing: Now, open your file for processing. Print stock name, minimum price, maximum price and average price values.\n",
    "### You can also print which day stock price was lowest in the week and which day stock price was highest. So, modify your print statement to print stock name, minimum price & day of minimum price, maximum price & day of maximum price and average price values. \n",
    "### (Hint: Use enumerate to get index values)"
   ]
  },
  {
   "cell_type": "code",
   "execution_count": 1,
   "id": "b9264237",
   "metadata": {},
   "outputs": [
    {
     "name": "stdout",
     "output_type": "stream",
     "text": [
      "Enter a Name: Bag\n",
      "750\n",
      "600\n",
      "874\n",
      "489\n",
      "299\n",
      "Want to continue: k\n",
      "Enter a Name: Furniture\n",
      "765\n",
      "999\n",
      "870\n",
      "407\n",
      "280\n",
      "Want to continue: n\n"
     ]
    }
   ],
   "source": [
    "while True:\n",
    "    st_name = str(input(\"Enter a Name: \"))\n",
    "    file = open(\"stock_prices.txt\",\"a\")\n",
    "    file.write(st_name)\n",
    "    file.write(\" \")\n",
    "    for i in range(5):\n",
    "        x = input()\n",
    "        file.write(x)\n",
    "        file.write(\" \")\n",
    "    file.write(\"\\n\")\n",
    "    con = str(input(\"Want to continue: \"))\n",
    "    if con == 'n':\n",
    "        break\n",
    "file.close()"
   ]
  },
  {
   "cell_type": "code",
   "execution_count": 3,
   "id": "bd00735d",
   "metadata": {},
   "outputs": [
    {
     "name": "stdout",
     "output_type": "stream",
     "text": [
      "Bag\n",
      "299\n",
      "874\n",
      "602.4\n",
      "\n",
      "\n",
      "Furniture\n",
      "280\n",
      "999\n",
      "664.2\n",
      "\n",
      "\n"
     ]
    }
   ],
   "source": [
    "for st in open(\"stock_prices.txt\",\"r\").readlines():\n",
    "    x_min = []\n",
    "    cal = st.split()\n",
    "    print(cal[0])\n",
    "    for i in range(1,6):\n",
    "        x_min.append(int(cal[i]))\n",
    "    print(min(x_min))\n",
    "    print(max(x_min))\n",
    "    av = sum(x_min)\n",
    "    avg = av/5\n",
    "    print(avg)\n",
    "    print(\"\\n\")"
   ]
  },
  {
   "cell_type": "code",
   "execution_count": null,
   "id": "8fb2f447",
   "metadata": {},
   "outputs": [],
   "source": [
    "for st in open(\"stock_prices.txt\",\"r\").readlines():\n",
    "    x_min = []\n",
    "    print(\"-------------------------------\")\n",
    "    cal = st.split()\n",
    "    print(cal[0])\n",
    "    for i in range(1,6):\n",
    "        x_min.append(int(cal[i]))\n",
    "        mip = min(x_min)\n",
    "        mxp = max(x_min)\n",
    "        a = x_min.index(mip)\n",
    "        b = x_min.index(mxp)\n",
    "        print(\"min price \",mip, \"on day\",a+1)\n",
    "        print(\"max price \",mxp, \"on day\",b+1)\n",
    "            "
   ]
  },
  {
   "cell_type": "markdown",
   "id": "b72a5623",
   "metadata": {},
   "source": [
    "### Question 4. Write a program for File Explorer Display the contents of file Count the number oflines in a text file. (Use splitlines()) Count the number of unique words in a file. Find frequency ofwords in a given file. (Hint: Use Counter object) Show a random line in a file. (Use Randomobject) "
   ]
  },
  {
   "cell_type": "code",
   "execution_count": null,
   "id": "b74b0140",
   "metadata": {},
   "outputs": [],
   "source": [
    "f = open(\"alice.txt\",'r+') \n",
    "display = f.read() \n",
    "print(display)\n",
    "f.close() \n",
    "print(\" \")"
   ]
  },
  {
   "cell_type": "code",
   "execution_count": null,
   "id": "984b5407",
   "metadata": {},
   "outputs": [],
   "source": []
  }
 ],
 "metadata": {
  "kernelspec": {
   "display_name": "Python 3",
   "language": "python",
   "name": "python3"
  },
  "language_info": {
   "codemirror_mode": {
    "name": "ipython",
    "version": 3
   },
   "file_extension": ".py",
   "mimetype": "text/x-python",
   "name": "python",
   "nbconvert_exporter": "python",
   "pygments_lexer": "ipython3",
   "version": "3.8.8"
  }
 },
 "nbformat": 4,
 "nbformat_minor": 5
}
